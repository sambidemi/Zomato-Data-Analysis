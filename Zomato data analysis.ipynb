{
 "cells": [
  {
   "cell_type": "raw",
   "id": "f5d16a41-b81f-4362-8068-41ccbda2a14c",
   "metadata": {},
   "source": [
    "We aim to answer questions such as:\n",
    "Do more restaurants provide online delivery compared to offline services?\n",
    "Which types of restaurants are most favored by the general public?\n",
    "What price range do couples prefer for dining out?"
   ]
  },
  {
   "cell_type": "raw",
   "id": "1cbd4183-fc9f-4ffa-8ab0-77315b6dbb47",
   "metadata": {},
   "source": [
    "Importing the dataset from a csv file into the a pandas dataframe"
   ]
  },
  {
   "cell_type": "code",
   "execution_count": 1,
   "id": "ce09551a-25c8-47b6-985d-46a8339c6286",
   "metadata": {},
   "outputs": [],
   "source": [
    "import pandas as pd\n",
    "import matplotlib.pyplot as plt\n",
    "df = pd.read_csv ('Zomato-data-.csv')"
   ]
  },
  {
   "cell_type": "code",
   "execution_count": 2,
   "id": "d20920b6-91ab-4401-93aa-c5dbd22711c8",
   "metadata": {},
   "outputs": [
    {
     "data": {
      "text/html": [
       "<div>\n",
       "<style scoped>\n",
       "    .dataframe tbody tr th:only-of-type {\n",
       "        vertical-align: middle;\n",
       "    }\n",
       "\n",
       "    .dataframe tbody tr th {\n",
       "        vertical-align: top;\n",
       "    }\n",
       "\n",
       "    .dataframe thead th {\n",
       "        text-align: right;\n",
       "    }\n",
       "</style>\n",
       "<table border=\"1\" class=\"dataframe\">\n",
       "  <thead>\n",
       "    <tr style=\"text-align: right;\">\n",
       "      <th></th>\n",
       "      <th>name</th>\n",
       "      <th>online_order</th>\n",
       "      <th>book_table</th>\n",
       "      <th>rate</th>\n",
       "      <th>votes</th>\n",
       "      <th>approx_cost(for two people)</th>\n",
       "      <th>listed_in(type)</th>\n",
       "    </tr>\n",
       "  </thead>\n",
       "  <tbody>\n",
       "    <tr>\n",
       "      <th>0</th>\n",
       "      <td>Jalsa</td>\n",
       "      <td>Yes</td>\n",
       "      <td>Yes</td>\n",
       "      <td>4.1/5</td>\n",
       "      <td>775</td>\n",
       "      <td>800</td>\n",
       "      <td>Buffet</td>\n",
       "    </tr>\n",
       "    <tr>\n",
       "      <th>1</th>\n",
       "      <td>Spice Elephant</td>\n",
       "      <td>Yes</td>\n",
       "      <td>No</td>\n",
       "      <td>4.1/5</td>\n",
       "      <td>787</td>\n",
       "      <td>800</td>\n",
       "      <td>Buffet</td>\n",
       "    </tr>\n",
       "    <tr>\n",
       "      <th>2</th>\n",
       "      <td>San Churro Cafe</td>\n",
       "      <td>Yes</td>\n",
       "      <td>No</td>\n",
       "      <td>3.8/5</td>\n",
       "      <td>918</td>\n",
       "      <td>800</td>\n",
       "      <td>Buffet</td>\n",
       "    </tr>\n",
       "    <tr>\n",
       "      <th>3</th>\n",
       "      <td>Addhuri Udupi Bhojana</td>\n",
       "      <td>No</td>\n",
       "      <td>No</td>\n",
       "      <td>3.7/5</td>\n",
       "      <td>88</td>\n",
       "      <td>300</td>\n",
       "      <td>Buffet</td>\n",
       "    </tr>\n",
       "    <tr>\n",
       "      <th>4</th>\n",
       "      <td>Grand Village</td>\n",
       "      <td>No</td>\n",
       "      <td>No</td>\n",
       "      <td>3.8/5</td>\n",
       "      <td>166</td>\n",
       "      <td>600</td>\n",
       "      <td>Buffet</td>\n",
       "    </tr>\n",
       "    <tr>\n",
       "      <th>5</th>\n",
       "      <td>Timepass Dinner</td>\n",
       "      <td>Yes</td>\n",
       "      <td>No</td>\n",
       "      <td>3.8/5</td>\n",
       "      <td>286</td>\n",
       "      <td>600</td>\n",
       "      <td>Buffet</td>\n",
       "    </tr>\n",
       "    <tr>\n",
       "      <th>6</th>\n",
       "      <td>Rosewood International Hotel - Bar &amp; Restaurant</td>\n",
       "      <td>No</td>\n",
       "      <td>No</td>\n",
       "      <td>3.6/5</td>\n",
       "      <td>8</td>\n",
       "      <td>800</td>\n",
       "      <td>Buffet</td>\n",
       "    </tr>\n",
       "    <tr>\n",
       "      <th>7</th>\n",
       "      <td>Onesta</td>\n",
       "      <td>Yes</td>\n",
       "      <td>Yes</td>\n",
       "      <td>4.6/5</td>\n",
       "      <td>2556</td>\n",
       "      <td>600</td>\n",
       "      <td>Cafes</td>\n",
       "    </tr>\n",
       "    <tr>\n",
       "      <th>8</th>\n",
       "      <td>Penthouse Cafe</td>\n",
       "      <td>Yes</td>\n",
       "      <td>No</td>\n",
       "      <td>4.0/5</td>\n",
       "      <td>324</td>\n",
       "      <td>700</td>\n",
       "      <td>other</td>\n",
       "    </tr>\n",
       "    <tr>\n",
       "      <th>9</th>\n",
       "      <td>Smacznego</td>\n",
       "      <td>Yes</td>\n",
       "      <td>No</td>\n",
       "      <td>4.2/5</td>\n",
       "      <td>504</td>\n",
       "      <td>550</td>\n",
       "      <td>Cafes</td>\n",
       "    </tr>\n",
       "  </tbody>\n",
       "</table>\n",
       "</div>"
      ],
      "text/plain": [
       "                                              name online_order book_table  \\\n",
       "0                                            Jalsa          Yes        Yes   \n",
       "1                                   Spice Elephant          Yes         No   \n",
       "2                                  San Churro Cafe          Yes         No   \n",
       "3                            Addhuri Udupi Bhojana           No         No   \n",
       "4                                    Grand Village           No         No   \n",
       "5                                  Timepass Dinner          Yes         No   \n",
       "6  Rosewood International Hotel - Bar & Restaurant           No         No   \n",
       "7                                           Onesta          Yes        Yes   \n",
       "8                                   Penthouse Cafe          Yes         No   \n",
       "9                                        Smacznego          Yes         No   \n",
       "\n",
       "    rate  votes  approx_cost(for two people) listed_in(type)  \n",
       "0  4.1/5    775                          800          Buffet  \n",
       "1  4.1/5    787                          800          Buffet  \n",
       "2  3.8/5    918                          800          Buffet  \n",
       "3  3.7/5     88                          300          Buffet  \n",
       "4  3.8/5    166                          600          Buffet  \n",
       "5  3.8/5    286                          600          Buffet  \n",
       "6  3.6/5      8                          800          Buffet  \n",
       "7  4.6/5   2556                          600           Cafes  \n",
       "8  4.0/5    324                          700           other  \n",
       "9  4.2/5    504                          550           Cafes  "
      ]
     },
     "execution_count": 2,
     "metadata": {},
     "output_type": "execute_result"
    }
   ],
   "source": [
    "df.head(10)"
   ]
  },
  {
   "cell_type": "code",
   "execution_count": 3,
   "id": "7f5478b3-becd-4edf-b111-2afd3538fd36",
   "metadata": {},
   "outputs": [
    {
     "data": {
      "text/html": [
       "<div>\n",
       "<style scoped>\n",
       "    .dataframe tbody tr th:only-of-type {\n",
       "        vertical-align: middle;\n",
       "    }\n",
       "\n",
       "    .dataframe tbody tr th {\n",
       "        vertical-align: top;\n",
       "    }\n",
       "\n",
       "    .dataframe thead th {\n",
       "        text-align: right;\n",
       "    }\n",
       "</style>\n",
       "<table border=\"1\" class=\"dataframe\">\n",
       "  <thead>\n",
       "    <tr style=\"text-align: right;\">\n",
       "      <th></th>\n",
       "      <th>name</th>\n",
       "      <th>online_order</th>\n",
       "      <th>book_table</th>\n",
       "      <th>rate</th>\n",
       "      <th>votes</th>\n",
       "      <th>approx_cost(for two people)</th>\n",
       "      <th>listed_in(type)</th>\n",
       "    </tr>\n",
       "  </thead>\n",
       "  <tbody>\n",
       "    <tr>\n",
       "      <th>138</th>\n",
       "      <td>Sri Murari Family Restaurant</td>\n",
       "      <td>No</td>\n",
       "      <td>No</td>\n",
       "      <td>2.9/5</td>\n",
       "      <td>0</td>\n",
       "      <td>250</td>\n",
       "      <td>Dining</td>\n",
       "    </tr>\n",
       "    <tr>\n",
       "      <th>139</th>\n",
       "      <td>Aramane Donne Biriyani</td>\n",
       "      <td>No</td>\n",
       "      <td>No</td>\n",
       "      <td>2.9/5</td>\n",
       "      <td>0</td>\n",
       "      <td>150</td>\n",
       "      <td>Dining</td>\n",
       "    </tr>\n",
       "    <tr>\n",
       "      <th>140</th>\n",
       "      <td>Darkolates</td>\n",
       "      <td>No</td>\n",
       "      <td>No</td>\n",
       "      <td>3.3/5</td>\n",
       "      <td>0</td>\n",
       "      <td>200</td>\n",
       "      <td>Dining</td>\n",
       "    </tr>\n",
       "    <tr>\n",
       "      <th>141</th>\n",
       "      <td>Swaada Healthy Kitchen</td>\n",
       "      <td>No</td>\n",
       "      <td>No</td>\n",
       "      <td>3.3/5</td>\n",
       "      <td>0</td>\n",
       "      <td>350</td>\n",
       "      <td>Dining</td>\n",
       "    </tr>\n",
       "    <tr>\n",
       "      <th>142</th>\n",
       "      <td>Gawdaru Mane Beriyani</td>\n",
       "      <td>No</td>\n",
       "      <td>No</td>\n",
       "      <td>3.3/5</td>\n",
       "      <td>0</td>\n",
       "      <td>300</td>\n",
       "      <td>Dining</td>\n",
       "    </tr>\n",
       "    <tr>\n",
       "      <th>143</th>\n",
       "      <td>Melting Melodies</td>\n",
       "      <td>No</td>\n",
       "      <td>No</td>\n",
       "      <td>3.3/5</td>\n",
       "      <td>0</td>\n",
       "      <td>100</td>\n",
       "      <td>Dining</td>\n",
       "    </tr>\n",
       "    <tr>\n",
       "      <th>144</th>\n",
       "      <td>New Indraprasta</td>\n",
       "      <td>No</td>\n",
       "      <td>No</td>\n",
       "      <td>3.3/5</td>\n",
       "      <td>0</td>\n",
       "      <td>150</td>\n",
       "      <td>Dining</td>\n",
       "    </tr>\n",
       "    <tr>\n",
       "      <th>145</th>\n",
       "      <td>Anna Kuteera</td>\n",
       "      <td>Yes</td>\n",
       "      <td>No</td>\n",
       "      <td>4.0/5</td>\n",
       "      <td>771</td>\n",
       "      <td>450</td>\n",
       "      <td>Dining</td>\n",
       "    </tr>\n",
       "    <tr>\n",
       "      <th>146</th>\n",
       "      <td>Darbar</td>\n",
       "      <td>No</td>\n",
       "      <td>No</td>\n",
       "      <td>3.0/5</td>\n",
       "      <td>98</td>\n",
       "      <td>800</td>\n",
       "      <td>Dining</td>\n",
       "    </tr>\n",
       "    <tr>\n",
       "      <th>147</th>\n",
       "      <td>Vijayalakshmi</td>\n",
       "      <td>Yes</td>\n",
       "      <td>No</td>\n",
       "      <td>3.9/5</td>\n",
       "      <td>47</td>\n",
       "      <td>200</td>\n",
       "      <td>Dining</td>\n",
       "    </tr>\n",
       "  </tbody>\n",
       "</table>\n",
       "</div>"
      ],
      "text/plain": [
       "                             name online_order book_table   rate  votes  \\\n",
       "138  Sri Murari Family Restaurant           No         No  2.9/5      0   \n",
       "139        Aramane Donne Biriyani           No         No  2.9/5      0   \n",
       "140                    Darkolates           No         No  3.3/5      0   \n",
       "141        Swaada Healthy Kitchen           No         No  3.3/5      0   \n",
       "142         Gawdaru Mane Beriyani           No         No  3.3/5      0   \n",
       "143              Melting Melodies           No         No  3.3/5      0   \n",
       "144               New Indraprasta           No         No  3.3/5      0   \n",
       "145                  Anna Kuteera          Yes         No  4.0/5    771   \n",
       "146                        Darbar           No         No  3.0/5     98   \n",
       "147                 Vijayalakshmi          Yes         No  3.9/5     47   \n",
       "\n",
       "     approx_cost(for two people) listed_in(type)  \n",
       "138                          250          Dining  \n",
       "139                          150          Dining  \n",
       "140                          200          Dining  \n",
       "141                          350          Dining  \n",
       "142                          300          Dining  \n",
       "143                          100          Dining  \n",
       "144                          150          Dining  \n",
       "145                          450          Dining  \n",
       "146                          800          Dining  \n",
       "147                          200          Dining  "
      ]
     },
     "execution_count": 3,
     "metadata": {},
     "output_type": "execute_result"
    }
   ],
   "source": [
    "df.tail(10)"
   ]
  },
  {
   "cell_type": "code",
   "execution_count": 4,
   "id": "3434a499-13df-4644-8e21-857b6295d2b1",
   "metadata": {},
   "outputs": [
    {
     "name": "stdout",
     "output_type": "stream",
     "text": [
      "<class 'pandas.core.frame.DataFrame'>\n",
      "RangeIndex: 148 entries, 0 to 147\n",
      "Data columns (total 7 columns):\n",
      " #   Column                       Non-Null Count  Dtype \n",
      "---  ------                       --------------  ----- \n",
      " 0   name                         148 non-null    object\n",
      " 1   online_order                 148 non-null    object\n",
      " 2   book_table                   148 non-null    object\n",
      " 3   rate                         148 non-null    object\n",
      " 4   votes                        148 non-null    int64 \n",
      " 5   approx_cost(for two people)  148 non-null    int64 \n",
      " 6   listed_in(type)              148 non-null    object\n",
      "dtypes: int64(2), object(5)\n",
      "memory usage: 8.2+ KB\n"
     ]
    }
   ],
   "source": [
    "df.info()"
   ]
  },
  {
   "cell_type": "code",
   "execution_count": 5,
   "id": "844eb214-6688-4802-93fc-afe59a9ea7da",
   "metadata": {},
   "outputs": [
    {
     "data": {
      "text/html": [
       "<div>\n",
       "<style scoped>\n",
       "    .dataframe tbody tr th:only-of-type {\n",
       "        vertical-align: middle;\n",
       "    }\n",
       "\n",
       "    .dataframe tbody tr th {\n",
       "        vertical-align: top;\n",
       "    }\n",
       "\n",
       "    .dataframe thead th {\n",
       "        text-align: right;\n",
       "    }\n",
       "</style>\n",
       "<table border=\"1\" class=\"dataframe\">\n",
       "  <thead>\n",
       "    <tr style=\"text-align: right;\">\n",
       "      <th></th>\n",
       "      <th>votes</th>\n",
       "      <th>approx_cost(for two people)</th>\n",
       "    </tr>\n",
       "  </thead>\n",
       "  <tbody>\n",
       "    <tr>\n",
       "      <th>count</th>\n",
       "      <td>148.000000</td>\n",
       "      <td>148.000000</td>\n",
       "    </tr>\n",
       "    <tr>\n",
       "      <th>mean</th>\n",
       "      <td>264.810811</td>\n",
       "      <td>418.243243</td>\n",
       "    </tr>\n",
       "    <tr>\n",
       "      <th>std</th>\n",
       "      <td>653.676951</td>\n",
       "      <td>223.085098</td>\n",
       "    </tr>\n",
       "    <tr>\n",
       "      <th>min</th>\n",
       "      <td>0.000000</td>\n",
       "      <td>100.000000</td>\n",
       "    </tr>\n",
       "    <tr>\n",
       "      <th>25%</th>\n",
       "      <td>6.750000</td>\n",
       "      <td>200.000000</td>\n",
       "    </tr>\n",
       "    <tr>\n",
       "      <th>50%</th>\n",
       "      <td>43.500000</td>\n",
       "      <td>400.000000</td>\n",
       "    </tr>\n",
       "    <tr>\n",
       "      <th>75%</th>\n",
       "      <td>221.750000</td>\n",
       "      <td>600.000000</td>\n",
       "    </tr>\n",
       "    <tr>\n",
       "      <th>max</th>\n",
       "      <td>4884.000000</td>\n",
       "      <td>950.000000</td>\n",
       "    </tr>\n",
       "  </tbody>\n",
       "</table>\n",
       "</div>"
      ],
      "text/plain": [
       "             votes  approx_cost(for two people)\n",
       "count   148.000000                   148.000000\n",
       "mean    264.810811                   418.243243\n",
       "std     653.676951                   223.085098\n",
       "min       0.000000                   100.000000\n",
       "25%       6.750000                   200.000000\n",
       "50%      43.500000                   400.000000\n",
       "75%     221.750000                   600.000000\n",
       "max    4884.000000                   950.000000"
      ]
     },
     "execution_count": 5,
     "metadata": {},
     "output_type": "execute_result"
    }
   ],
   "source": [
    "df.describe()"
   ]
  },
  {
   "cell_type": "code",
   "execution_count": 6,
   "id": "b4df0a57-d308-4a39-953b-d85ea41d1227",
   "metadata": {},
   "outputs": [
    {
     "data": {
      "text/plain": [
       "name                           0\n",
       "online_order                   0\n",
       "book_table                     0\n",
       "rate                           0\n",
       "votes                          0\n",
       "approx_cost(for two people)    0\n",
       "listed_in(type)                0\n",
       "dtype: int64"
      ]
     },
     "execution_count": 6,
     "metadata": {},
     "output_type": "execute_result"
    }
   ],
   "source": [
    "df.isnull().sum()"
   ]
  },
  {
   "cell_type": "code",
   "execution_count": 7,
   "id": "6b8ff202-aae8-44a4-ae94-6f0e685c42ff",
   "metadata": {},
   "outputs": [],
   "source": [
    "'''Data cleaning by converting the rate to a proper float.'''\n",
    "def func(arg):\n",
    "    strings = arg.split('/')\n",
    "    value = strings[0]\n",
    "    return float(value)\n",
    "    \n",
    "df['rate'] = df['rate'].apply(func)"
   ]
  },
  {
   "cell_type": "code",
   "execution_count": 8,
   "id": "f07797d5-e601-481e-a165-5bbbfbeb1653",
   "metadata": {},
   "outputs": [
    {
     "data": {
      "text/plain": [
       "dtype('float64')"
      ]
     },
     "execution_count": 8,
     "metadata": {},
     "output_type": "execute_result"
    }
   ],
   "source": [
    "df['rate'].dtype"
   ]
  },
  {
   "cell_type": "code",
   "execution_count": null,
   "id": "1f904441-32e0-4194-b05c-77ca1587ce36",
   "metadata": {},
   "outputs": [],
   "source": []
  },
  {
   "cell_type": "code",
   "execution_count": 9,
   "id": "1580e158-dbd8-4da5-8ef5-126b1994ce21",
   "metadata": {},
   "outputs": [
    {
     "data": {
      "image/png": "[encoded data removed]",
      "text/plain": [
       "<Figure size 640x480 with 1 Axes>"
      ]
     },
     "metadata": {},
     "output_type": "display_data"
    }
   ],
   "source": [
    "'''Exploring restuarant types.'''\n",
    "df.groupby('listed_in(type)')['name'].count().plot.bar()\n",
    "plt.show()"
   ]
  },
  {
   "cell_type": "raw",
   "id": "00206031-f631-434b-a984-fc9312de2b33",
   "metadata": {},
   "source": [
    "Conclusion: Majority of the restaurants fall under the dinnning category"
   ]
  },
  {
   "cell_type": "code",
   "execution_count": 10,
   "id": "6ba1f04e-ab31-485c-932c-11a6dce17ae7",
   "metadata": {},
   "outputs": [
    {
     "data": {
      "image/png": "[encoded data removed]",
      "text/plain": [
       "<Figure size 640x480 with 1 Axes>"
      ]
     },
     "metadata": {},
     "output_type": "display_data"
    }
   ],
   "source": [
    "'''Exploring the total number of votes for each restuarant types'''\n",
    "grouped_data = df.groupby('listed_in(type)')['votes'].sum()\n",
    "grouped_data.plot.line( marker = 'o', title = 'The total number of votes for each restaurant types', ylabel = 'Number of votes', xlabel = 'Restaurant Types')\n",
    "plt.show()"
   ]
  },
  {
   "cell_type": "raw",
   "id": "a270f0fc-8fac-4120-bf29-15c15c8e15ff",
   "metadata": {},
   "source": [
    "Conclusion: Dinning Restuarants are supported by a lot individuals"
   ]
  },
  {
   "cell_type": "code",
   "execution_count": 11,
   "id": "e5056ddf-2599-4122-ad76-ba8bf11f9ce4",
   "metadata": {},
   "outputs": [
    {
     "name": "stdout",
     "output_type": "stream",
     "text": [
      "Restaurant with most votes\n"
     ]
    },
    {
     "data": {
      "text/plain": [
       "38    Empire Restaurant\n",
       "Name: name, dtype: object"
      ]
     },
     "execution_count": 11,
     "metadata": {},
     "output_type": "execute_result"
    }
   ],
   "source": [
    "'''Identifying most voted restuarant'''\n",
    "most_voted = df['votes'].max()\n",
    "print('Restaurant with most votes')\n",
    "df[df['votes'] == most_voted]['name']"
   ]
  },
  {
   "cell_type": "code",
   "execution_count": 12,
   "id": "52cf72ae-a9b2-47d6-bc9a-c63376a80127",
   "metadata": {},
   "outputs": [
    {
     "name": "stdout",
     "output_type": "stream",
     "text": [
      "online_order\n",
      "No     90\n",
      "Yes    58\n",
      "Name: name, dtype: int64\n"
     ]
    },
    {
     "data": {
      "image/png": "[encoded data removed]",
      "text/plain": [
       "<Figure size 640x480 with 1 Axes>"
      ]
     },
     "metadata": {},
     "output_type": "display_data"
    }
   ],
   "source": [
    "'''Exploring online availability'''\n",
    "online_orders = df.groupby('online_order')['name'].count()\n",
    "print(online_orders)\n",
    "online_orders.plot.bar()\n",
    "plt.show()"
   ]
  },
  {
   "cell_type": "raw",
   "id": "3d8746a8-938c-455a-905b-4edaf2ceb1ff",
   "metadata": {},
   "source": [
    "conclusion: This shows that a lot restuarants prefer offline service to online services."
   ]
  },
  {
   "cell_type": "code",
   "execution_count": 18,
   "id": "df9e92ff-c3ae-48a4-a32d-5bbfc8c5c492",
   "metadata": {},
   "outputs": [
    {
     "data": {
      "image/png": "[encoded data removed]",
      "text/plain": [
       "<Figure size 640x480 with 1 Axes>"
      ]
     },
     "metadata": {},
     "output_type": "display_data"
    }
   ],
   "source": [
    "'''Analyzing ratings'''\n",
    "df['rate'].plot.hist( bins =5)\n",
    "plt.show()"
   ]
  },
  {
   "cell_type": "raw",
   "id": "39df448c-1c7c-4b98-a128-14031068f21f",
   "metadata": {},
   "source": [
    "Conclusion: Majority of the restuarants get ratings from 3.5 -4.0"
   ]
  },
  {
   "cell_type": "code",
   "execution_count": 99,
   "id": "1fc0c015-4256-433b-a631-dde6584a546d",
   "metadata": {},
   "outputs": [
    {
     "data": {
      "image/png": "[encoded data removed]",
      "text/plain": [
       "<Figure size 640x480 with 1 Axes>"
      ]
     },
     "metadata": {},
     "output_type": "display_data"
    }
   ],
   "source": [
    "'''What price range couples prefer for dinning out'''\n",
    "couple_data = df.groupby('approx_cost(for two people)')['approx_cost(for two people)'].count()\n",
    "couple_data.plot.bar()\n",
    "plt.show()"
   ]
  },
  {
   "cell_type": "raw",
   "id": "60900b4b-9378-4d0a-9cee-b28487f4afc3",
   "metadata": {},
   "source": [
    "Conclusion: This shows that couples prefer 300 rupees."
   ]
  },
  {
   "cell_type": "code",
   "execution_count": 110,
   "id": "de1ebf82-c9c6-4ded-a55a-a21ff678d5c4",
   "metadata": {},
   "outputs": [
    {
     "data": {
      "text/plain": [
       "<Axes: xlabel='online_order', ylabel='rate'>"
      ]
     },
     "execution_count": 110,
     "metadata": {},
     "output_type": "execute_result"
    },
    {
     "data": {
      "image/png": "[encoded data removed]",
      "text/plain": [
       "<Figure size 600x600 with 1 Axes>"
      ]
     },
     "metadata": {},
     "output_type": "display_data"
    }
   ],
   "source": [
    "'''Ratings Comparison - Online vs Offline Orders\n",
    "Compare ratings between restaurants that accept online orders and those that don't.'''\n",
    "import seaborn as sns\n",
    "plt.figure(figsize = (6,6))\n",
    "sns.boxplot(x = 'online_order', y = 'rate', data = df)"
   ]
  },
  {
   "cell_type": "code",
   "execution_count": 43,
   "id": "8313026a-c203-49cb-bb29-7301b03b2d36",
   "metadata": {},
   "outputs": [
    {
     "data": {
      "text/html": [
       "<div>\n",
       "<style scoped>\n",
       "    .dataframe tbody tr th:only-of-type {\n",
       "        vertical-align: middle;\n",
       "    }\n",
       "\n",
       "    .dataframe tbody tr th {\n",
       "        vertical-align: top;\n",
       "    }\n",
       "\n",
       "    .dataframe thead th {\n",
       "        text-align: right;\n",
       "    }\n",
       "</style>\n",
       "<table border=\"1\" class=\"dataframe\">\n",
       "  <thead>\n",
       "    <tr style=\"text-align: right;\">\n",
       "      <th>online_order</th>\n",
       "      <th>No</th>\n",
       "      <th>Yes</th>\n",
       "    </tr>\n",
       "    <tr>\n",
       "      <th>listed_in(type)</th>\n",
       "      <th></th>\n",
       "      <th></th>\n",
       "    </tr>\n",
       "  </thead>\n",
       "  <tbody>\n",
       "    <tr>\n",
       "      <th>Buffet</th>\n",
       "      <td>3</td>\n",
       "      <td>4</td>\n",
       "    </tr>\n",
       "    <tr>\n",
       "      <th>Cafes</th>\n",
       "      <td>8</td>\n",
       "      <td>15</td>\n",
       "    </tr>\n",
       "    <tr>\n",
       "      <th>Dining</th>\n",
       "      <td>77</td>\n",
       "      <td>33</td>\n",
       "    </tr>\n",
       "    <tr>\n",
       "      <th>other</th>\n",
       "      <td>2</td>\n",
       "      <td>6</td>\n",
       "    </tr>\n",
       "  </tbody>\n",
       "</table>\n",
       "</div>"
      ],
      "text/plain": [
       "online_order     No  Yes\n",
       "listed_in(type)         \n",
       "Buffet            3    4\n",
       "Cafes             8   15\n",
       "Dining           77   33\n",
       "other             2    6"
      ]
     },
     "metadata": {},
     "output_type": "display_data"
    },
    {
     "data": {
      "text/plain": [
       "(4, 2)"
      ]
     },
     "execution_count": 43,
     "metadata": {},
     "output_type": "execute_result"
    }
   ],
   "source": [
    "'''Order mode preferences by restaurant types.'''\n",
    "pivot = df.pivot_table( index = 'listed_in(type)', columns ='online_order', aggfunc = 'size', fill_value = 0)\n",
    "display(pivot)\n",
    "pivot.shape"
   ]
  },
  {
   "cell_type": "code",
   "execution_count": 41,
   "id": "5b9c100d-91f5-4df1-b181-3a1785311562",
   "metadata": {},
   "outputs": [
    {
     "data": {
      "image/png": "[encoded data removed]",
      "text/plain": [
       "<Figure size 640x480 with 2 Axes>"
      ]
     },
     "metadata": {},
     "output_type": "display_data"
    }
   ],
   "source": [
    "import seaborn as sns\n",
    "sns.heatmap(pivot, annot = True, cmap='YlGnBu', fmt='d' )\n",
    "plt.title('Heatmap')\n",
    "plt.xlabel('Online Order')\n",
    "plt.ylabel('Listed In (Type)')\n",
    "plt.show()"
   ]
  },
  {
   "cell_type": "raw",
   "id": "f8f53d99-6779-4e19-b9f2-684309ac8131",
   "metadata": {},
   "source": [
    "Conclusion: Dining restaurants primarily accept offline orders whereas cafes primarily receive online orders. This suggests that clients prefer to place orders in person at restaurants but prefer online ordering at cafes."
   ]
  },
  {
   "cell_type": "code",
   "execution_count": null,
   "id": "abbdde61-45a8-4177-a542-937383117c10",
   "metadata": {},
   "outputs": [],
   "source": []
  }
 ],
 "metadata": {
  "kernelspec": {
   "display_name": "Python 3 (ipykernel)",
   "language": "python",
   "name": "python3"
  },
  "language_info": {
   "codemirror_mode": {
    "name": "ipython",
    "version": 3
   },
   "file_extension": ".py",
   "mimetype": "text/x-python",
   "name": "python",
   "nbconvert_exporter": "python",
   "pygments_lexer": "ipython3",
   "version": "3.12.7"
  }
 },
 "nbformat": 4,
 "nbformat_minor": 5
}
